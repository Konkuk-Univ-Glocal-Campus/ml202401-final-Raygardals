{
  "cells": [
    {
      "cell_type": "markdown",
      "metadata": {
        "id": "x5cLTd3xSVwY"
      },
      "source": [
        "### **기계학습(8585) 기말고사 대체 과제 : 제품 review 데이터의 감성 분석**\n",
        "**202121873 황호준**"
      ]
    },
    {
      "cell_type": "markdown",
      "metadata": {
        "id": "5GweCp13TYbe"
      },
      "source": [
        "학번이 홀수로 끝나는 학생은 amazon_uk_shoes_products_dataset_2021_12.csv를 분석\n",
        "\n",
        "\n",
        "*   Python Version : Python 3.10.12\n",
        "\n"
      ]
    },
    {
      "cell_type": "markdown",
      "metadata": {
        "id": "Bu1RvJgjdgJ3"
      },
      "source": [
        "### **1. 데이터 전처리**\n"
      ]
    },
    {
      "cell_type": "code",
      "execution_count": 1,
      "metadata": {
        "colab": {
          "base_uri": "https://localhost:8080/"
        },
        "id": "c6u_9xkgNU8v",
        "outputId": "e4e370b9-14c1-4c0c-8406-91507623135e"
      },
      "outputs": [
        {
          "name": "stdout",
          "output_type": "stream",
          "text": [
            "Requirement already satisfied: matplotlib in /home/codespace/.local/lib/python3.10/site-packages (3.9.0)\n",
            "Requirement already satisfied: contourpy>=1.0.1 in /home/codespace/.local/lib/python3.10/site-packages (from matplotlib) (1.2.1)\n",
            "Requirement already satisfied: cycler>=0.10 in /home/codespace/.local/lib/python3.10/site-packages (from matplotlib) (0.12.1)\n",
            "Requirement already satisfied: fonttools>=4.22.0 in /home/codespace/.local/lib/python3.10/site-packages (from matplotlib) (4.52.4)\n",
            "Requirement already satisfied: kiwisolver>=1.3.1 in /home/codespace/.local/lib/python3.10/site-packages (from matplotlib) (1.4.5)\n",
            "Requirement already satisfied: numpy>=1.23 in /home/codespace/.local/lib/python3.10/site-packages (from matplotlib) (1.26.4)\n",
            "Requirement already satisfied: packaging>=20.0 in /home/codespace/.local/lib/python3.10/site-packages (from matplotlib) (24.0)\n",
            "Requirement already satisfied: pillow>=8 in /home/codespace/.local/lib/python3.10/site-packages (from matplotlib) (10.3.0)\n",
            "Requirement already satisfied: pyparsing>=2.3.1 in /home/codespace/.local/lib/python3.10/site-packages (from matplotlib) (3.1.2)\n",
            "Requirement already satisfied: python-dateutil>=2.7 in /home/codespace/.local/lib/python3.10/site-packages (from matplotlib) (2.9.0.post0)\n",
            "Requirement already satisfied: six>=1.5 in /home/codespace/.local/lib/python3.10/site-packages (from python-dateutil>=2.7->matplotlib) (1.16.0)\n",
            "\n",
            "\u001b[1m[\u001b[0m\u001b[34;49mnotice\u001b[0m\u001b[1;39;49m]\u001b[0m\u001b[39;49m A new release of pip is available: \u001b[0m\u001b[31;49m24.0\u001b[0m\u001b[39;49m -> \u001b[0m\u001b[32;49m24.1\u001b[0m\n",
            "\u001b[1m[\u001b[0m\u001b[34;49mnotice\u001b[0m\u001b[1;39;49m]\u001b[0m\u001b[39;49m To update, run: \u001b[0m\u001b[32;49mpip install --upgrade pip\u001b[0m\n",
            "Note: you may need to restart the kernel to use updated packages.\n",
            "Requirement already satisfied: pandas in /home/codespace/.local/lib/python3.10/site-packages (2.2.2)\n",
            "Requirement already satisfied: numpy>=1.22.4 in /home/codespace/.local/lib/python3.10/site-packages (from pandas) (1.26.4)\n",
            "Requirement already satisfied: python-dateutil>=2.8.2 in /home/codespace/.local/lib/python3.10/site-packages (from pandas) (2.9.0.post0)\n",
            "Requirement already satisfied: pytz>=2020.1 in /home/codespace/.local/lib/python3.10/site-packages (from pandas) (2024.1)\n",
            "Requirement already satisfied: tzdata>=2022.7 in /home/codespace/.local/lib/python3.10/site-packages (from pandas) (2024.1)\n",
            "Requirement already satisfied: six>=1.5 in /home/codespace/.local/lib/python3.10/site-packages (from python-dateutil>=2.8.2->pandas) (1.16.0)\n",
            "\n",
            "\u001b[1m[\u001b[0m\u001b[34;49mnotice\u001b[0m\u001b[1;39;49m]\u001b[0m\u001b[39;49m A new release of pip is available: \u001b[0m\u001b[31;49m24.0\u001b[0m\u001b[39;49m -> \u001b[0m\u001b[32;49m24.1\u001b[0m\n",
            "\u001b[1m[\u001b[0m\u001b[34;49mnotice\u001b[0m\u001b[1;39;49m]\u001b[0m\u001b[39;49m To update, run: \u001b[0m\u001b[32;49mpip install --upgrade pip\u001b[0m\n",
            "Note: you may need to restart the kernel to use updated packages.\n",
            "Requirement already satisfied: numpy in /home/codespace/.local/lib/python3.10/site-packages (1.26.4)\n",
            "\n",
            "\u001b[1m[\u001b[0m\u001b[34;49mnotice\u001b[0m\u001b[1;39;49m]\u001b[0m\u001b[39;49m A new release of pip is available: \u001b[0m\u001b[31;49m24.0\u001b[0m\u001b[39;49m -> \u001b[0m\u001b[32;49m24.1\u001b[0m\n",
            "\u001b[1m[\u001b[0m\u001b[34;49mnotice\u001b[0m\u001b[1;39;49m]\u001b[0m\u001b[39;49m To update, run: \u001b[0m\u001b[32;49mpip install --upgrade pip\u001b[0m\n",
            "Note: you may need to restart the kernel to use updated packages.\n",
            "Collecting nltk\n",
            "  Downloading nltk-3.8.1-py3-none-any.whl.metadata (2.8 kB)\n",
            "Collecting click (from nltk)\n",
            "  Downloading click-8.1.7-py3-none-any.whl.metadata (3.0 kB)\n",
            "Requirement already satisfied: joblib in /home/codespace/.local/lib/python3.10/site-packages (from nltk) (1.4.2)\n",
            "Collecting regex>=2021.8.3 (from nltk)\n",
            "  Downloading regex-2024.5.15-cp310-cp310-manylinux_2_17_x86_64.manylinux2014_x86_64.whl.metadata (40 kB)\n",
            "\u001b[2K     \u001b[90m━━━━━━━━━━━━━━━━━━━━━━━━━━━━━━━━━━━━━━━━\u001b[0m \u001b[32m40.9/40.9 kB\u001b[0m \u001b[31m1.0 MB/s\u001b[0m eta \u001b[36m0:00:00\u001b[0m\n",
            "\u001b[?25hCollecting tqdm (from nltk)\n",
            "  Downloading tqdm-4.66.4-py3-none-any.whl.metadata (57 kB)\n",
            "\u001b[2K     \u001b[90m━━━━━━━━━━━━━━━━━━━━━━━━━━━━━━━━━━━━━━━━\u001b[0m \u001b[32m57.6/57.6 kB\u001b[0m \u001b[31m2.1 MB/s\u001b[0m eta \u001b[36m0:00:00\u001b[0m\n",
            "\u001b[?25hDownloading nltk-3.8.1-py3-none-any.whl (1.5 MB)\n",
            "\u001b[2K   \u001b[90m━━━━━━━━━━━━━━━━━━━━━━━━━━━━━━━━━━━━━━━━\u001b[0m \u001b[32m1.5/1.5 MB\u001b[0m \u001b[31m28.4 MB/s\u001b[0m eta \u001b[36m0:00:00\u001b[0m:00:01\u001b[0m\n",
            "\u001b[?25hDownloading regex-2024.5.15-cp310-cp310-manylinux_2_17_x86_64.manylinux2014_x86_64.whl (775 kB)\n",
            "\u001b[2K   \u001b[90m━━━━━━━━━━━━━━━━━━━━━━━━━━━━━━━━━━━━━━━━\u001b[0m \u001b[32m775.1/775.1 kB\u001b[0m \u001b[31m19.8 MB/s\u001b[0m eta \u001b[36m0:00:00\u001b[0m00:01\u001b[0m\n",
            "\u001b[?25hDownloading click-8.1.7-py3-none-any.whl (97 kB)\n",
            "\u001b[2K   \u001b[90m━━━━━━━━━━━━━━━━━━━━━━━━━━━━━━━━━━━━━━━━\u001b[0m \u001b[32m97.9/97.9 kB\u001b[0m \u001b[31m3.8 MB/s\u001b[0m eta \u001b[36m0:00:00\u001b[0m\n",
            "\u001b[?25hDownloading tqdm-4.66.4-py3-none-any.whl (78 kB)\n",
            "\u001b[2K   \u001b[90m━━━━━━━━━━━━━━━━━━━━━━━━━━━━━━━━━━━━━━━━\u001b[0m \u001b[32m78.3/78.3 kB\u001b[0m \u001b[31m2.4 MB/s\u001b[0m eta \u001b[36m0:00:00\u001b[0m\n",
            "\u001b[?25hInstalling collected packages: tqdm, regex, click, nltk\n",
            "Successfully installed click-8.1.7 nltk-3.8.1 regex-2024.5.15 tqdm-4.66.4\n",
            "\n",
            "\u001b[1m[\u001b[0m\u001b[34;49mnotice\u001b[0m\u001b[1;39;49m]\u001b[0m\u001b[39;49m A new release of pip is available: \u001b[0m\u001b[31;49m24.0\u001b[0m\u001b[39;49m -> \u001b[0m\u001b[32;49m24.1\u001b[0m\n",
            "\u001b[1m[\u001b[0m\u001b[34;49mnotice\u001b[0m\u001b[1;39;49m]\u001b[0m\u001b[39;49m To update, run: \u001b[0m\u001b[32;49mpip install --upgrade pip\u001b[0m\n",
            "Note: you may need to restart the kernel to use updated packages.\n"
          ]
        },
        {
          "name": "stderr",
          "output_type": "stream",
          "text": [
            "[nltk_data] Downloading package punkt to /home/codespace/nltk_data...\n",
            "[nltk_data]   Unzipping tokenizers/punkt.zip.\n",
            "[nltk_data] Downloading package stopwords to\n",
            "[nltk_data]     /home/codespace/nltk_data...\n",
            "[nltk_data]   Unzipping corpora/stopwords.zip.\n",
            "[nltk_data] Downloading package wordnet to\n",
            "[nltk_data]     /home/codespace/nltk_data...\n",
            "[nltk_data] Downloading package vader_lexicon to\n",
            "[nltk_data]     /home/codespace/nltk_data...\n"
          ]
        },
        {
          "data": {
            "text/plain": [
              "True"
            ]
          },
          "execution_count": 1,
          "metadata": {},
          "output_type": "execute_result"
        }
      ],
      "source": [
        "# 필요 라이브러리 설치\n",
        "%pip install matplotlib\n",
        "%pip install pandas\n",
        "%pip install numpy\n",
        "%pip install nltk\n",
        "\n",
        "# 라이브러리 임포트\n",
        "import matplotlib.pyplot as plt\n",
        "import numpy as np\n",
        "import pandas as pd\n",
        "import nltk\n",
        "import re\n",
        "from nltk.corpus import stopwords\n",
        "from nltk.tokenize import word_tokenize\n",
        "from nltk.stem import WordNetLemmatizer\n",
        "from nltk.sentiment.vader import SentimentIntensityAnalyzer\n",
        "\n",
        "# NLTK 데이터 다운로드\n",
        "nltk.download('punkt')\n",
        "nltk.download('stopwords')\n",
        "nltk.download('wordnet')\n",
        "nltk.download('vader_lexicon')"
      ]
    },
    {
      "cell_type": "markdown",
      "metadata": {
        "id": "15sQiXEADvX9"
      },
      "source": [
        "## 1) 데이터 로드"
      ]
    },
    {
      "cell_type": "code",
      "execution_count": 2,
      "metadata": {
        "colab": {
          "base_uri": "https://localhost:8080/",
          "height": 642
        },
        "id": "R3h9BZ8KMsRw",
        "outputId": "ba03e04d-f0e4-490a-81f5-bde0ee64c09d"
      },
      "outputs": [
        {
          "name": "stdout",
          "output_type": "stream",
          "text": [
            "<class 'pandas.core.frame.DataFrame'>\n",
            "RangeIndex: 6823 entries, 0 to 6822\n",
            "Data columns (total 11 columns):\n",
            " #   Column             Non-Null Count  Dtype  \n",
            "---  ------             --------------  -----  \n",
            " 0   url                6823 non-null   object \n",
            " 1   product_name       6823 non-null   object \n",
            " 2   reviewer_name      6823 non-null   object \n",
            " 3   review_title       6822 non-null   object \n",
            " 4   review_text        6814 non-null   object \n",
            " 5   review_rating      6823 non-null   float64\n",
            " 6   verified_purchase  6823 non-null   bool   \n",
            " 7   review_date        6823 non-null   object \n",
            " 8   helpful_count      1953 non-null   object \n",
            " 9   uniq_id            6823 non-null   object \n",
            " 10  scraped_at         6823 non-null   object \n",
            "dtypes: bool(1), float64(1), object(9)\n",
            "memory usage: 539.8+ KB\n"
          ]
        },
        {
          "data": {
            "text/html": [
              "<div>\n",
              "<style scoped>\n",
              "    .dataframe tbody tr th:only-of-type {\n",
              "        vertical-align: middle;\n",
              "    }\n",
              "\n",
              "    .dataframe tbody tr th {\n",
              "        vertical-align: top;\n",
              "    }\n",
              "\n",
              "    .dataframe thead th {\n",
              "        text-align: right;\n",
              "    }\n",
              "</style>\n",
              "<table border=\"1\" class=\"dataframe\">\n",
              "  <thead>\n",
              "    <tr style=\"text-align: right;\">\n",
              "      <th></th>\n",
              "      <th>url</th>\n",
              "      <th>product_name</th>\n",
              "      <th>reviewer_name</th>\n",
              "      <th>review_title</th>\n",
              "      <th>review_text</th>\n",
              "      <th>review_rating</th>\n",
              "      <th>verified_purchase</th>\n",
              "      <th>review_date</th>\n",
              "      <th>helpful_count</th>\n",
              "      <th>uniq_id</th>\n",
              "      <th>scraped_at</th>\n",
              "    </tr>\n",
              "  </thead>\n",
              "  <tbody>\n",
              "    <tr>\n",
              "      <th>0</th>\n",
              "      <td>https://www.amazon.co.uk/dp/B07SBX32T5</td>\n",
              "      <td>Klasified Women's Transparent Clear Sneaker Sh...</td>\n",
              "      <td>Jocelyn McSayles</td>\n",
              "      <td>Love em</td>\n",
              "      <td>Love these. Was looking for converses and thes...</td>\n",
              "      <td>5.0</td>\n",
              "      <td>True</td>\n",
              "      <td>Reviewed in the United States on 2 June 2020</td>\n",
              "      <td>2 people found this helpful</td>\n",
              "      <td>36eae4e5-2894-5279-a0b7-d2b330e2b814</td>\n",
              "      <td>24/12/2021 02:26:25</td>\n",
              "    </tr>\n",
              "    <tr>\n",
              "      <th>1</th>\n",
              "      <td>https://www.amazon.co.uk/dp/B07SBX32T5</td>\n",
              "      <td>Klasified Women's Transparent Clear Sneaker Sh...</td>\n",
              "      <td>Kenia Rivera</td>\n",
              "      <td>The plastic ripped</td>\n",
              "      <td>The shoes are very cute, but after the 2nd day...</td>\n",
              "      <td>2.0</td>\n",
              "      <td>True</td>\n",
              "      <td>Reviewed in the United States on 28 October 2021</td>\n",
              "      <td>NaN</td>\n",
              "      <td>f4778bb8-3070-5cb1-b5aa-ffce41a97b57</td>\n",
              "      <td>24/12/2021 02:26:25</td>\n",
              "    </tr>\n",
              "    <tr>\n",
              "      <th>2</th>\n",
              "      <td>https://www.amazon.co.uk/dp/B07SBX32T5</td>\n",
              "      <td>Klasified Women's Transparent Clear Sneaker Sh...</td>\n",
              "      <td>Chris Souza</td>\n",
              "      <td>Good quality</td>\n",
              "      <td>Good quality</td>\n",
              "      <td>5.0</td>\n",
              "      <td>True</td>\n",
              "      <td>Reviewed in the United States on 20 January 2021</td>\n",
              "      <td>NaN</td>\n",
              "      <td>db5a7525-d40b-5265-84d8-df4f29837a3b</td>\n",
              "      <td>24/12/2021 02:26:25</td>\n",
              "    </tr>\n",
              "    <tr>\n",
              "      <th>3</th>\n",
              "      <td>https://www.amazon.co.uk/dp/B07SBX32T5</td>\n",
              "      <td>Klasified Women's Transparent Clear Sneaker Sh...</td>\n",
              "      <td>Amazon Customer</td>\n",
              "      <td>Good</td>\n",
              "      <td>Great</td>\n",
              "      <td>5.0</td>\n",
              "      <td>True</td>\n",
              "      <td>Reviewed in the United States on 22 April 2021</td>\n",
              "      <td>NaN</td>\n",
              "      <td>75a42851-6462-54b5-988a-27d336221943</td>\n",
              "      <td>24/12/2021 02:26:25</td>\n",
              "    </tr>\n",
              "    <tr>\n",
              "      <th>4</th>\n",
              "      <td>https://www.amazon.co.uk/dp/B08SW434MG</td>\n",
              "      <td>GUESS Women's Bradly Gymnastics Shoe, White, 7 UK</td>\n",
              "      <td>Graziella</td>\n",
              "      <td>PERFETTE!!</td>\n",
              "      <td>Ho scelto il modello bianco con rifinitura die...</td>\n",
              "      <td>5.0</td>\n",
              "      <td>True</td>\n",
              "      <td>Reviewed in Italy on 2 April 2021</td>\n",
              "      <td>2 people found this helpful</td>\n",
              "      <td>232dee43-849e-5d06-ba05-efb3f4814714</td>\n",
              "      <td>24/12/2021 02:26:25</td>\n",
              "    </tr>\n",
              "  </tbody>\n",
              "</table>\n",
              "</div>"
            ],
            "text/plain": [
              "                                      url  \\\n",
              "0  https://www.amazon.co.uk/dp/B07SBX32T5   \n",
              "1  https://www.amazon.co.uk/dp/B07SBX32T5   \n",
              "2  https://www.amazon.co.uk/dp/B07SBX32T5   \n",
              "3  https://www.amazon.co.uk/dp/B07SBX32T5   \n",
              "4  https://www.amazon.co.uk/dp/B08SW434MG   \n",
              "\n",
              "                                        product_name     reviewer_name  \\\n",
              "0  Klasified Women's Transparent Clear Sneaker Sh...  Jocelyn McSayles   \n",
              "1  Klasified Women's Transparent Clear Sneaker Sh...      Kenia Rivera   \n",
              "2  Klasified Women's Transparent Clear Sneaker Sh...       Chris Souza   \n",
              "3  Klasified Women's Transparent Clear Sneaker Sh...   Amazon Customer   \n",
              "4  GUESS Women's Bradly Gymnastics Shoe, White, 7 UK         Graziella   \n",
              "\n",
              "         review_title                                        review_text  \\\n",
              "0             Love em  Love these. Was looking for converses and thes...   \n",
              "1  The plastic ripped  The shoes are very cute, but after the 2nd day...   \n",
              "2        Good quality                                       Good quality   \n",
              "3                Good                                              Great   \n",
              "4          PERFETTE!!  Ho scelto il modello bianco con rifinitura die...   \n",
              "\n",
              "   review_rating  verified_purchase  \\\n",
              "0            5.0               True   \n",
              "1            2.0               True   \n",
              "2            5.0               True   \n",
              "3            5.0               True   \n",
              "4            5.0               True   \n",
              "\n",
              "                                        review_date  \\\n",
              "0      Reviewed in the United States on 2 June 2020   \n",
              "1  Reviewed in the United States on 28 October 2021   \n",
              "2  Reviewed in the United States on 20 January 2021   \n",
              "3    Reviewed in the United States on 22 April 2021   \n",
              "4                 Reviewed in Italy on 2 April 2021   \n",
              "\n",
              "                 helpful_count                               uniq_id  \\\n",
              "0  2 people found this helpful  36eae4e5-2894-5279-a0b7-d2b330e2b814   \n",
              "1                          NaN  f4778bb8-3070-5cb1-b5aa-ffce41a97b57   \n",
              "2                          NaN  db5a7525-d40b-5265-84d8-df4f29837a3b   \n",
              "3                          NaN  75a42851-6462-54b5-988a-27d336221943   \n",
              "4  2 people found this helpful  232dee43-849e-5d06-ba05-efb3f4814714   \n",
              "\n",
              "            scraped_at  \n",
              "0  24/12/2021 02:26:25  \n",
              "1  24/12/2021 02:26:25  \n",
              "2  24/12/2021 02:26:25  \n",
              "3  24/12/2021 02:26:25  \n",
              "4  24/12/2021 02:26:25  "
            ]
          },
          "execution_count": 2,
          "metadata": {},
          "output_type": "execute_result"
        }
      ],
      "source": [
        "# 데이터 로드\n",
        "data_path = 'amazon_uk_shoes_products_dataset_2021_12.csv'\n",
        "df = pd.read_csv(data_path)\n",
        "\n",
        "# 데이터프레임의 기본 정보 확인\n",
        "df.info()\n",
        "\n",
        "# 데이터의 상위 5개 행 확인\n",
        "df.head()"
      ]
    },
    {
      "cell_type": "markdown",
      "metadata": {
        "id": "GWEZidMrESF5"
      },
      "source": [
        "데이터를 로드하고 데이터 프레임을 살펴봅니다. 총 11가지로 아래와 같이 데이터가 이루어져있음을 확인할 수 있습니다.\n",
        "\n",
        "1. url\n",
        "2. product_name\n",
        "3. reviewer_name\n",
        "4. review_title\n",
        "5. review_text\n",
        "6. review_rating\n",
        "7. verified_purchase\n",
        "8. review_date\n",
        "9. helpful_count\n",
        "10. uniq_id\n",
        "11. scraped_at"
      ]
    },
    {
      "cell_type": "markdown",
      "metadata": {
        "id": "pqc4myzEE4Oi"
      },
      "source": [
        "## 2) 결측치 제거"
      ]
    },
    {
      "cell_type": "code",
      "execution_count": 3,
      "metadata": {
        "colab": {
          "base_uri": "https://localhost:8080/"
        },
        "id": "33I7I8DcNbvP",
        "outputId": "50b19c93-7b5f-4eea-9b5c-48be32854123"
      },
      "outputs": [
        {
          "name": "stdout",
          "output_type": "stream",
          "text": [
            "결측치 갯수:\n",
            " url                     0\n",
            "product_name            0\n",
            "reviewer_name           0\n",
            "review_title            1\n",
            "review_text             9\n",
            "review_rating           0\n",
            "verified_purchase       0\n",
            "review_date             0\n",
            "helpful_count        4870\n",
            "uniq_id                 0\n",
            "scraped_at              0\n",
            "dtype: int64\n"
          ]
        }
      ],
      "source": [
        "# 결측치 확인\n",
        "missing_values = df.isnull().sum()\n",
        "print(\"결측치 갯수:\\n\", missing_values)"
      ]
    },
    {
      "cell_type": "markdown",
      "metadata": {
        "id": "DmzxCq9PGq17"
      },
      "source": [
        "데이터프레임의 각 열에 결측치가 얼마나 있는지 확인하고, 결측치의 갯수를 출력하여 결측치가 존재하는지 파악합니다."
      ]
    },
    {
      "cell_type": "code",
      "execution_count": 4,
      "metadata": {
        "id": "7pxjpnseO_Wl"
      },
      "outputs": [],
      "source": [
        "# helpful_count 열 제거\n",
        "df.drop(columns=[\"helpful_count\"], inplace=True)"
      ]
    },
    {
      "cell_type": "code",
      "execution_count": 5,
      "metadata": {
        "id": "aP4i2cxEPYuB"
      },
      "outputs": [],
      "source": [
        "# 결측치가 존재하는 행 제거\n",
        "df.dropna(inplace=True)"
      ]
    },
    {
      "cell_type": "markdown",
      "metadata": {
        "id": "3mrA-uDrGuyQ"
      },
      "source": [
        "helpful_count 열은 결측치가 너무 많아 학습에 유용하지 않다고 판단하여 제거했습니다. 남아있는 열에서 결측치가 존재하는 행을 제거하여 데이터의 완전성을 유지합니다."
      ]
    },
    {
      "cell_type": "code",
      "execution_count": 6,
      "metadata": {
        "colab": {
          "base_uri": "https://localhost:8080/"
        },
        "id": "ZD1AU_0UPbum",
        "outputId": "0dc6ad2e-9bc8-46ed-c09c-663fc6a54a1e"
      },
      "outputs": [
        {
          "name": "stdout",
          "output_type": "stream",
          "text": [
            "결측치 제거 후 갯수:\n",
            " url                  0\n",
            "product_name         0\n",
            "reviewer_name        0\n",
            "review_title         0\n",
            "review_text          0\n",
            "review_rating        0\n",
            "verified_purchase    0\n",
            "review_date          0\n",
            "uniq_id              0\n",
            "scraped_at           0\n",
            "dtype: int64\n"
          ]
        }
      ],
      "source": [
        "# 결측치 여부 재확인\n",
        "missing_values_after = df.isnull().sum()\n",
        "print(\"결측치 제거 후 갯수:\\n\", missing_values_after)"
      ]
    },
    {
      "cell_type": "code",
      "execution_count": 7,
      "metadata": {
        "colab": {
          "base_uri": "https://localhost:8080/"
        },
        "id": "lXtQhGtfPfKE",
        "outputId": "670bb141-8327-4d52-d46c-42ac796eb46e"
      },
      "outputs": [
        {
          "name": "stdout",
          "output_type": "stream",
          "text": [
            "결측치 제거 후 각 열의 데이터 갯수:\n",
            " url                  6813\n",
            "product_name         6813\n",
            "reviewer_name        6813\n",
            "review_title         6813\n",
            "review_text          6813\n",
            "review_rating        6813\n",
            "verified_purchase    6813\n",
            "review_date          6813\n",
            "uniq_id              6813\n",
            "scraped_at           6813\n",
            "dtype: int64\n"
          ]
        }
      ],
      "source": [
        "# 각 열의 데이터 갯수 확인\n",
        "data_count = df.count()\n",
        "print(\"결측치 제거 후 각 열의 데이터 갯수:\\n\", data_count)"
      ]
    },
    {
      "cell_type": "markdown",
      "metadata": {
        "id": "We4RGlJkFxjx"
      },
      "source": [
        "결측치 제거 후 각 열에 남아있는 결측치를 다시 확인하고, 결측치 제거 후 각 열의 데이터 갯수를 확인하여 데이터가 올바르게 정리되었는지 확인합니다."
      ]
    },
    {
      "cell_type": "markdown",
      "metadata": {
        "id": "3SRFR1ysFSRI"
      },
      "source": [
        "## 3) 데이터 프레임 정리"
      ]
    },
    {
      "cell_type": "code",
      "execution_count": 8,
      "metadata": {
        "colab": {
          "base_uri": "https://localhost:8080/",
          "height": 390
        },
        "id": "4BPU9tlsV4kC",
        "outputId": "6876259d-8445-4460-d16a-16ed835f64e5"
      },
      "outputs": [
        {
          "name": "stdout",
          "output_type": "stream",
          "text": [
            "<class 'pandas.core.frame.DataFrame'>\n",
            "Index: 6813 entries, 0 to 6822\n",
            "Data columns (total 3 columns):\n",
            " #   Column         Non-Null Count  Dtype  \n",
            "---  ------         --------------  -----  \n",
            " 0   review_text    6813 non-null   object \n",
            " 1   review_rating  6813 non-null   float64\n",
            " 2   review_title   6813 non-null   object \n",
            "dtypes: float64(1), object(2)\n",
            "memory usage: 212.9+ KB\n"
          ]
        },
        {
          "data": {
            "text/html": [
              "<div>\n",
              "<style scoped>\n",
              "    .dataframe tbody tr th:only-of-type {\n",
              "        vertical-align: middle;\n",
              "    }\n",
              "\n",
              "    .dataframe tbody tr th {\n",
              "        vertical-align: top;\n",
              "    }\n",
              "\n",
              "    .dataframe thead th {\n",
              "        text-align: right;\n",
              "    }\n",
              "</style>\n",
              "<table border=\"1\" class=\"dataframe\">\n",
              "  <thead>\n",
              "    <tr style=\"text-align: right;\">\n",
              "      <th></th>\n",
              "      <th>review_text</th>\n",
              "      <th>review_rating</th>\n",
              "      <th>review_title</th>\n",
              "    </tr>\n",
              "  </thead>\n",
              "  <tbody>\n",
              "    <tr>\n",
              "      <th>0</th>\n",
              "      <td>Love these. Was looking for converses and thes...</td>\n",
              "      <td>5.0</td>\n",
              "      <td>Love em</td>\n",
              "    </tr>\n",
              "    <tr>\n",
              "      <th>1</th>\n",
              "      <td>The shoes are very cute, but after the 2nd day...</td>\n",
              "      <td>2.0</td>\n",
              "      <td>The plastic ripped</td>\n",
              "    </tr>\n",
              "    <tr>\n",
              "      <th>2</th>\n",
              "      <td>Good quality</td>\n",
              "      <td>5.0</td>\n",
              "      <td>Good quality</td>\n",
              "    </tr>\n",
              "    <tr>\n",
              "      <th>3</th>\n",
              "      <td>Great</td>\n",
              "      <td>5.0</td>\n",
              "      <td>Good</td>\n",
              "    </tr>\n",
              "    <tr>\n",
              "      <th>4</th>\n",
              "      <td>Ho scelto il modello bianco con rifinitura die...</td>\n",
              "      <td>5.0</td>\n",
              "      <td>PERFETTE!!</td>\n",
              "    </tr>\n",
              "  </tbody>\n",
              "</table>\n",
              "</div>"
            ],
            "text/plain": [
              "                                         review_text  review_rating  \\\n",
              "0  Love these. Was looking for converses and thes...            5.0   \n",
              "1  The shoes are very cute, but after the 2nd day...            2.0   \n",
              "2                                       Good quality            5.0   \n",
              "3                                              Great            5.0   \n",
              "4  Ho scelto il modello bianco con rifinitura die...            5.0   \n",
              "\n",
              "         review_title  \n",
              "0             Love em  \n",
              "1  The plastic ripped  \n",
              "2        Good quality  \n",
              "3                Good  \n",
              "4          PERFETTE!!  "
            ]
          },
          "execution_count": 8,
          "metadata": {},
          "output_type": "execute_result"
        }
      ],
      "source": [
        "# 감정 분석에 필요한 열만 남기고 나머지 제거\n",
        "df = df[['review_text', 'review_rating', 'review_title']]\n",
        "\n",
        "# 데이터프레임의 기본 정보 확인\n",
        "df.info()\n",
        "\n",
        "# 데이터의 상위 5개 행 확인\n",
        "df.head()"
      ]
    },
    {
      "cell_type": "markdown",
      "metadata": {
        "id": "5wXAJdD_HX04"
      },
      "source": [
        "감정분석에 직접적으로 의미가 있는 'review.text', 'review_rating', 'review_title' 열을 제외하고 데이터 프레임을 제거하여 정리하였습니다. 이후 데이터의 예시를 직접 확인하여 데이터가 예상대로 정리되었는지를 확인합니다."
      ]
    },
    {
      "cell_type": "markdown",
      "metadata": {
        "id": "wtCi5FrKFe_c"
      },
      "source": [
        "## 4) 노이즈, 불용어 제거 및 토큰화 진행"
      ]
    },
    {
      "cell_type": "code",
      "execution_count": 9,
      "metadata": {
        "colab": {
          "base_uri": "https://localhost:8080/",
          "height": 206
        },
        "id": "0hR-Zc9yWASe",
        "outputId": "ed1fd533-8bb7-4588-a647-6c4435cbc611"
      },
      "outputs": [
        {
          "data": {
            "text/html": [
              "<div>\n",
              "<style scoped>\n",
              "    .dataframe tbody tr th:only-of-type {\n",
              "        vertical-align: middle;\n",
              "    }\n",
              "\n",
              "    .dataframe tbody tr th {\n",
              "        vertical-align: top;\n",
              "    }\n",
              "\n",
              "    .dataframe thead th {\n",
              "        text-align: right;\n",
              "    }\n",
              "</style>\n",
              "<table border=\"1\" class=\"dataframe\">\n",
              "  <thead>\n",
              "    <tr style=\"text-align: right;\">\n",
              "      <th></th>\n",
              "      <th>review_text</th>\n",
              "      <th>cleaned_reviewText</th>\n",
              "      <th>review_title</th>\n",
              "      <th>cleaned_reviewTitle</th>\n",
              "    </tr>\n",
              "  </thead>\n",
              "  <tbody>\n",
              "    <tr>\n",
              "      <th>0</th>\n",
              "      <td>Love these. Was looking for converses and thes...</td>\n",
              "      <td>love looking converse half price unique ive ne...</td>\n",
              "      <td>Love em</td>\n",
              "      <td>love em</td>\n",
              "    </tr>\n",
              "    <tr>\n",
              "      <th>1</th>\n",
              "      <td>The shoes are very cute, but after the 2nd day...</td>\n",
              "      <td>shoe cute nd day wearing tongue started rippin...</td>\n",
              "      <td>The plastic ripped</td>\n",
              "      <td>plastic ripped</td>\n",
              "    </tr>\n",
              "    <tr>\n",
              "      <th>2</th>\n",
              "      <td>Good quality</td>\n",
              "      <td>good quality</td>\n",
              "      <td>Good quality</td>\n",
              "      <td>good quality</td>\n",
              "    </tr>\n",
              "    <tr>\n",
              "      <th>3</th>\n",
              "      <td>Great</td>\n",
              "      <td>great</td>\n",
              "      <td>Good</td>\n",
              "      <td>good</td>\n",
              "    </tr>\n",
              "    <tr>\n",
              "      <th>4</th>\n",
              "      <td>Ho scelto il modello bianco con rifinitura die...</td>\n",
              "      <td>ho scelto il modello bianco con rifinitura die...</td>\n",
              "      <td>PERFETTE!!</td>\n",
              "      <td>perfette</td>\n",
              "    </tr>\n",
              "  </tbody>\n",
              "</table>\n",
              "</div>"
            ],
            "text/plain": [
              "                                         review_text  \\\n",
              "0  Love these. Was looking for converses and thes...   \n",
              "1  The shoes are very cute, but after the 2nd day...   \n",
              "2                                       Good quality   \n",
              "3                                              Great   \n",
              "4  Ho scelto il modello bianco con rifinitura die...   \n",
              "\n",
              "                                  cleaned_reviewText        review_title  \\\n",
              "0  love looking converse half price unique ive ne...             Love em   \n",
              "1  shoe cute nd day wearing tongue started rippin...  The plastic ripped   \n",
              "2                                       good quality        Good quality   \n",
              "3                                              great                Good   \n",
              "4  ho scelto il modello bianco con rifinitura die...          PERFETTE!!   \n",
              "\n",
              "  cleaned_reviewTitle  \n",
              "0             love em  \n",
              "1      plastic ripped  \n",
              "2        good quality  \n",
              "3                good  \n",
              "4            perfette  "
            ]
          },
          "execution_count": 9,
          "metadata": {},
          "output_type": "execute_result"
        }
      ],
      "source": [
        "# 노이즈 제거 및 텍스트 전처리 함수 정의\n",
        "def clean_and_preprocess_text(text):\n",
        "    # 영어 대소문자와 공백을 제외한 모든 문자 제거\n",
        "    text = re.sub(r'[^A-Za-z\\s]', '', text)\n",
        "    # 소문자로 변환\n",
        "    text = text.lower()\n",
        "    # 여러 공백을 하나의 공백으로 치환\n",
        "    text = re.sub(r'\\s+', ' ', text).strip()\n",
        "    # 토큰화\n",
        "    tokens = word_tokenize(text)\n",
        "    # 불용어 제거 및 표제어 추출\n",
        "    stop_words = set(stopwords.words('english'))\n",
        "    lemmatizer = WordNetLemmatizer()\n",
        "    cleaned_tokens = [lemmatizer.lemmatize(word) for word in tokens if word not in stop_words]\n",
        "    return ' '.join(cleaned_tokens)\n",
        "\n",
        "# 리뷰 제목과 리뷰 텍스트에 함수 적용\n",
        "df['cleaned_reviewText'] = df['review_text'].apply(clean_and_preprocess_text)\n",
        "df['cleaned_reviewTitle'] = df['review_title'].apply(clean_and_preprocess_text)\n",
        "\n",
        "# 전처리된 텍스트 데이터 확인\n",
        "df[['review_text', 'cleaned_reviewText', 'review_title', 'cleaned_reviewTitle']].head()"
      ]
    },
    {
      "cell_type": "code",
      "execution_count": 10,
      "metadata": {
        "colab": {
          "base_uri": "https://localhost:8080/",
          "height": 206
        },
        "id": "7XgCMxvCbB9m",
        "outputId": "32c9d8ba-ef08-4756-e59e-e76edc156644"
      },
      "outputs": [
        {
          "data": {
            "text/html": [
              "<div>\n",
              "<style scoped>\n",
              "    .dataframe tbody tr th:only-of-type {\n",
              "        vertical-align: middle;\n",
              "    }\n",
              "\n",
              "    .dataframe tbody tr th {\n",
              "        vertical-align: top;\n",
              "    }\n",
              "\n",
              "    .dataframe thead th {\n",
              "        text-align: right;\n",
              "    }\n",
              "</style>\n",
              "<table border=\"1\" class=\"dataframe\">\n",
              "  <thead>\n",
              "    <tr style=\"text-align: right;\">\n",
              "      <th></th>\n",
              "      <th>cleaned_reviewTitle</th>\n",
              "      <th>tokenized_reviewTitle</th>\n",
              "      <th>cleaned_reviewText</th>\n",
              "      <th>tokenized_reviewText</th>\n",
              "    </tr>\n",
              "  </thead>\n",
              "  <tbody>\n",
              "    <tr>\n",
              "      <th>0</th>\n",
              "      <td>love em</td>\n",
              "      <td>[love, em]</td>\n",
              "      <td>love looking converse half price unique ive ne...</td>\n",
              "      <td>[love, looking, converse, half, price, unique,...</td>\n",
              "    </tr>\n",
              "    <tr>\n",
              "      <th>1</th>\n",
              "      <td>plastic ripped</td>\n",
              "      <td>[plastic, ripped]</td>\n",
              "      <td>shoe cute nd day wearing tongue started rippin...</td>\n",
              "      <td>[shoe, cute, nd, day, wearing, tongue, started...</td>\n",
              "    </tr>\n",
              "    <tr>\n",
              "      <th>2</th>\n",
              "      <td>good quality</td>\n",
              "      <td>[good, quality]</td>\n",
              "      <td>good quality</td>\n",
              "      <td>[good, quality]</td>\n",
              "    </tr>\n",
              "    <tr>\n",
              "      <th>3</th>\n",
              "      <td>good</td>\n",
              "      <td>[good]</td>\n",
              "      <td>great</td>\n",
              "      <td>[great]</td>\n",
              "    </tr>\n",
              "    <tr>\n",
              "      <th>4</th>\n",
              "      <td>perfette</td>\n",
              "      <td>[perfette]</td>\n",
              "      <td>ho scelto il modello bianco con rifinitura die...</td>\n",
              "      <td>[ho, scelto, il, modello, bianco, con, rifinit...</td>\n",
              "    </tr>\n",
              "  </tbody>\n",
              "</table>\n",
              "</div>"
            ],
            "text/plain": [
              "  cleaned_reviewTitle tokenized_reviewTitle  \\\n",
              "0             love em            [love, em]   \n",
              "1      plastic ripped     [plastic, ripped]   \n",
              "2        good quality       [good, quality]   \n",
              "3                good                [good]   \n",
              "4            perfette            [perfette]   \n",
              "\n",
              "                                  cleaned_reviewText  \\\n",
              "0  love looking converse half price unique ive ne...   \n",
              "1  shoe cute nd day wearing tongue started rippin...   \n",
              "2                                       good quality   \n",
              "3                                              great   \n",
              "4  ho scelto il modello bianco con rifinitura die...   \n",
              "\n",
              "                                tokenized_reviewText  \n",
              "0  [love, looking, converse, half, price, unique,...  \n",
              "1  [shoe, cute, nd, day, wearing, tongue, started...  \n",
              "2                                    [good, quality]  \n",
              "3                                            [great]  \n",
              "4  [ho, scelto, il, modello, bianco, con, rifinit...  "
            ]
          },
          "execution_count": 10,
          "metadata": {},
          "output_type": "execute_result"
        }
      ],
      "source": [
        "# 텍스트 토큰화\n",
        "df['tokenized_reviewTitle'] = df['cleaned_reviewTitle'].apply(word_tokenize)\n",
        "df['tokenized_reviewText'] = df['cleaned_reviewText'].apply(word_tokenize)\n",
        "\n",
        "# 토큰화된 텍스트 데이터 확인\n",
        "df[['cleaned_reviewTitle', 'tokenized_reviewTitle', 'cleaned_reviewText', 'tokenized_reviewText']].head()"
      ]
    },
    {
      "cell_type": "markdown",
      "metadata": {
        "id": "n9_NhaPEIcC7"
      },
      "source": [
        "텍스트 데이터를 전처리하고 노이즈를 제거합니다. 텍스트에서 불필요한 문자, 불용어 등을 제거하고 토큰화하여 분석에 적합한 형태로 변환합니다. 전처리된 텍스트 데이터를 토큰화하고 전처리된 텍스트와 토큰화된 텍스트를 비교하여 제대로 토큰화가 수행되었는지 확인합니다."
      ]
    },
    {
      "cell_type": "markdown",
      "metadata": {
        "id": "pWBOs6OOdsjM"
      },
      "source": [
        "### **2. 모델 구현**"
      ]
    },
    {
      "cell_type": "markdown",
      "metadata": {
        "id": "Cs3PAaO5KLiF"
      },
      "source": [
        "## 1) VADER 모델 활용 감정 분석 진행"
      ]
    },
    {
      "cell_type": "code",
      "execution_count": 12,
      "metadata": {
        "id": "c4kZeN_Snu_c"
      },
      "outputs": [],
      "source": [
        "import pandas as pd\n",
        "from nltk.sentiment.vader import SentimentIntensityAnalyzer\n",
        "\n",
        "# 전처리된 데이터 로드\n",
        "data_path = 'cleaned_amazon_uk_shoes_reviews.csv'\n",
        "df = pd.read_csv(data_path)\n",
        "\n",
        "# VADER 감정 분석기 초기화\n",
        "analyzer = SentimentIntensityAnalyzer()\n",
        "\n",
        "# VADER 감정 분석 적용 함수 정의\n",
        "def safe_polarity_scores(text):\n",
        "    try:\n",
        "        return analyzer.polarity_scores(str(text))\n",
        "    except:\n",
        "        return {'neg': 0.0, 'neu': 0.0, 'pos': 0.0, 'compound': 0.0}"
      ]
    },
    {
      "cell_type": "markdown",
      "metadata": {
        "id": "PzwiAh4wKhZa"
      },
      "source": [
        "데이터를 로드한 후, CADER 감정 분석기를 초기화하고 감정 분석 점수를 계산할 수 있는 함수를 정의합니다. 이 함수는 텍스트를 문자열로 변환한 후 감정 점수를 계산하고 예외가 발생하면 감정 점수를 0.0으로 설정하도록 하였습니다."
      ]
    },
    {
      "cell_type": "code",
      "execution_count": 13,
      "metadata": {
        "colab": {
          "base_uri": "https://localhost:8080/"
        },
        "id": "7_jJ5-9XJRNL",
        "outputId": "d2e33143-cba9-4a39-f01e-e95d3bc8b232"
      },
      "outputs": [
        {
          "name": "stdout",
          "output_type": "stream",
          "text": [
            "                                         review_text  \\\n",
            "0  Love these. Was looking for converses and thes...   \n",
            "1  The shoes are very cute, but after the 2nd day...   \n",
            "2                                       Good quality   \n",
            "3                                              Great   \n",
            "4  Ho scelto il modello bianco con rifinitura die...   \n",
            "\n",
            "                                  cleaned_reviewText  \\\n",
            "0  love looking converse half price unique ive ne...   \n",
            "1  shoe cute nd day wearing tongue started rippin...   \n",
            "2                                       good quality   \n",
            "3                                              great   \n",
            "4  ho scelto il modello bianco con rifinitura die...   \n",
            "\n",
            "                                   vader_text_scores  vader_text_compound  \\\n",
            "0  {'neg': 0.067, 'neu': 0.463, 'pos': 0.469, 'co...               0.9188   \n",
            "1  {'neg': 0.058, 'neu': 0.858, 'pos': 0.083, 'co...               0.2240   \n",
            "2  {'neg': 0.0, 'neu': 0.256, 'pos': 0.744, 'comp...               0.4404   \n",
            "3  {'neg': 0.0, 'neu': 0.0, 'pos': 1.0, 'compound...               0.6249   \n",
            "4  {'neg': 0.06, 'neu': 0.94, 'pos': 0.0, 'compou...              -0.4588   \n",
            "\n",
            "         review_title cleaned_reviewTitle  \\\n",
            "0             Love em             love em   \n",
            "1  The plastic ripped      plastic ripped   \n",
            "2        Good quality        good quality   \n",
            "3                Good                good   \n",
            "4          PERFETTE!!            perfette   \n",
            "\n",
            "                                  vader_title_scores  vader_title_compound  \n",
            "0  {'neg': 0.0, 'neu': 0.192, 'pos': 0.808, 'comp...                0.6369  \n",
            "1  {'neg': 0.0, 'neu': 1.0, 'pos': 0.0, 'compound...                0.0000  \n",
            "2  {'neg': 0.0, 'neu': 0.256, 'pos': 0.744, 'comp...                0.4404  \n",
            "3  {'neg': 0.0, 'neu': 0.0, 'pos': 1.0, 'compound...                0.4404  \n",
            "4  {'neg': 0.0, 'neu': 1.0, 'pos': 0.0, 'compound...                0.0000  \n"
          ]
        }
      ],
      "source": [
        "# VADER 감정 분석 적용\n",
        "df['vader_text_scores'] = df['cleaned_reviewText'].apply(safe_polarity_scores)\n",
        "df['vader_text_compound'] = df['vader_text_scores'].apply(lambda x: x['compound'])\n",
        "\n",
        "df['vader_title_scores'] = df['cleaned_reviewTitle'].apply(safe_polarity_scores)\n",
        "df['vader_title_compound'] = df['vader_title_scores'].apply(lambda x: x['compound'])\n",
        "\n",
        "# 결과 확인\n",
        "print(df[['review_text', 'cleaned_reviewText', 'vader_text_scores', 'vader_text_compound',\n",
        "          'review_title', 'cleaned_reviewTitle', 'vader_title_scores', 'vader_title_compound']].head())"
      ]
    },
    {
      "cell_type": "markdown",
      "metadata": {
        "id": "ybE6Mf4dMArB"
      },
      "source": [
        "각 열에 대한 긍정적, 중립적, 부정적 VADER 감정분석 점수 결과를 확인할 수 있습니다."
      ]
    },
    {
      "cell_type": "code",
      "execution_count": 14,
      "metadata": {
        "colab": {
          "base_uri": "https://localhost:8080/"
        },
        "id": "kpJpZqOuLdV1",
        "outputId": "c151c8b8-81ca-4628-ecd2-86f2300c2dea"
      },
      "outputs": [
        {
          "name": "stdout",
          "output_type": "stream",
          "text": [
            "                                         review_text  \\\n",
            "0  Love these. Was looking for converses and thes...   \n",
            "1  The shoes are very cute, but after the 2nd day...   \n",
            "2                                       Good quality   \n",
            "3                                              Great   \n",
            "4  Ho scelto il modello bianco con rifinitura die...   \n",
            "\n",
            "                                  cleaned_reviewText  vader_text_compound  \\\n",
            "0  love looking converse half price unique ive ne...               0.9188   \n",
            "1  shoe cute nd day wearing tongue started rippin...               0.2240   \n",
            "2                                       good quality               0.4404   \n",
            "3                                              great               0.6249   \n",
            "4  ho scelto il modello bianco con rifinitura die...              -0.4588   \n",
            "\n",
            "   text_sentiment        review_title cleaned_reviewTitle  \\\n",
            "0               1             Love em             love em   \n",
            "1               1  The plastic ripped      plastic ripped   \n",
            "2               1        Good quality        good quality   \n",
            "3               1                Good                good   \n",
            "4               0          PERFETTE!!            perfette   \n",
            "\n",
            "   vader_title_compound  title_sentiment  \n",
            "0                0.6369                1  \n",
            "1                0.0000                1  \n",
            "2                0.4404                1  \n",
            "3                0.4404                1  \n",
            "4                0.0000                1  \n"
          ]
        }
      ],
      "source": [
        "# vader_compound 값을 이진 값으로 변경하는 함수 정의\n",
        "def convert_to_binary(compound_score):\n",
        "    return 1 if compound_score >= 0 else 0\n",
        "\n",
        "# 이진 값으로 변경 적용\n",
        "df['text_sentiment'] = df['vader_text_compound'].apply(convert_to_binary)\n",
        "df['title_sentiment'] = df['vader_title_compound'].apply(convert_to_binary)\n",
        "\n",
        "# 변경 결과 확인\n",
        "print(df[['review_text', 'cleaned_reviewText', 'vader_text_compound', 'text_sentiment',\n",
        "          'review_title', 'cleaned_reviewTitle', 'vader_title_compound', 'title_sentiment']].head())"
      ]
    },
    {
      "cell_type": "markdown",
      "metadata": {
        "id": "S2jjxGObNCxp"
      },
      "source": [
        "compound_score 값을 이진 값으로 변환하는 함수를 정의하여 종합점수를 이진값으로 변환하여 긍정(1)과 부정(0)으로 구분합니다. 종합 점수가 0 이상이면 긍정으로 간주하여 1을 반환, 0 미만이면 부정으로 간주하여 0을 반환하도록 했습니다."
      ]
    },
    {
      "cell_type": "code",
      "execution_count": 15,
      "metadata": {
        "colab": {
          "base_uri": "https://localhost:8080/",
          "height": 424
        },
        "id": "E4WUJB3JLefE",
        "outputId": "7ad14802-aa6b-4f9b-a323-27f41eea938d"
      },
      "outputs": [
        {
          "data": {
            "text/html": [
              "<div>\n",
              "<style scoped>\n",
              "    .dataframe tbody tr th:only-of-type {\n",
              "        vertical-align: middle;\n",
              "    }\n",
              "\n",
              "    .dataframe tbody tr th {\n",
              "        vertical-align: top;\n",
              "    }\n",
              "\n",
              "    .dataframe thead th {\n",
              "        text-align: right;\n",
              "    }\n",
              "</style>\n",
              "<table border=\"1\" class=\"dataframe\">\n",
              "  <thead>\n",
              "    <tr style=\"text-align: right;\">\n",
              "      <th></th>\n",
              "      <th>cleaned_reviewText</th>\n",
              "      <th>text_sentiment</th>\n",
              "      <th>cleaned_reviewTitle</th>\n",
              "      <th>title_sentiment</th>\n",
              "    </tr>\n",
              "  </thead>\n",
              "  <tbody>\n",
              "    <tr>\n",
              "      <th>0</th>\n",
              "      <td>love looking converse half price unique ive ne...</td>\n",
              "      <td>1</td>\n",
              "      <td>love em</td>\n",
              "      <td>1</td>\n",
              "    </tr>\n",
              "    <tr>\n",
              "      <th>1</th>\n",
              "      <td>shoe cute nd day wearing tongue started rippin...</td>\n",
              "      <td>1</td>\n",
              "      <td>plastic ripped</td>\n",
              "      <td>1</td>\n",
              "    </tr>\n",
              "    <tr>\n",
              "      <th>2</th>\n",
              "      <td>good quality</td>\n",
              "      <td>1</td>\n",
              "      <td>good quality</td>\n",
              "      <td>1</td>\n",
              "    </tr>\n",
              "    <tr>\n",
              "      <th>3</th>\n",
              "      <td>great</td>\n",
              "      <td>1</td>\n",
              "      <td>good</td>\n",
              "      <td>1</td>\n",
              "    </tr>\n",
              "    <tr>\n",
              "      <th>4</th>\n",
              "      <td>ho scelto il modello bianco con rifinitura die...</td>\n",
              "      <td>0</td>\n",
              "      <td>perfette</td>\n",
              "      <td>1</td>\n",
              "    </tr>\n",
              "    <tr>\n",
              "      <th>...</th>\n",
              "      <td>...</td>\n",
              "      <td>...</td>\n",
              "      <td>...</td>\n",
              "      <td>...</td>\n",
              "    </tr>\n",
              "    <tr>\n",
              "      <th>6808</th>\n",
              "      <td>schicker schuh luft sich gut</td>\n",
              "      <td>1</td>\n",
              "      <td>schick und leicht</td>\n",
              "      <td>1</td>\n",
              "    </tr>\n",
              "    <tr>\n",
              "      <th>6809</th>\n",
              "      <td>mieux que je ne limaginais trs bonne taille bo...</td>\n",
              "      <td>1</td>\n",
              "      <td>excellent</td>\n",
              "      <td>1</td>\n",
              "    </tr>\n",
              "    <tr>\n",
              "      <th>6810</th>\n",
              "      <td>habe sie al geschenk gekauft und sie sind sehr...</td>\n",
              "      <td>1</td>\n",
              "      <td>einfach schne hausschuhe</td>\n",
              "      <td>1</td>\n",
              "    </tr>\n",
              "    <tr>\n",
              "      <th>6811</th>\n",
              "      <td>trage diese hausschuhe fast zwei monate jeden ...</td>\n",
              "      <td>0</td>\n",
              "      <td>langlebig</td>\n",
              "      <td>1</td>\n",
              "    </tr>\n",
              "    <tr>\n",
              "      <th>6812</th>\n",
              "      <td>die hausschuhe sind sehr warm und tolle leder ...</td>\n",
              "      <td>0</td>\n",
              "      <td>hausschuhe fr lange kalte winterzeiten</td>\n",
              "      <td>1</td>\n",
              "    </tr>\n",
              "  </tbody>\n",
              "</table>\n",
              "<p>6813 rows × 4 columns</p>\n",
              "</div>"
            ],
            "text/plain": [
              "                                     cleaned_reviewText  text_sentiment  \\\n",
              "0     love looking converse half price unique ive ne...               1   \n",
              "1     shoe cute nd day wearing tongue started rippin...               1   \n",
              "2                                          good quality               1   \n",
              "3                                                 great               1   \n",
              "4     ho scelto il modello bianco con rifinitura die...               0   \n",
              "...                                                 ...             ...   \n",
              "6808                       schicker schuh luft sich gut               1   \n",
              "6809  mieux que je ne limaginais trs bonne taille bo...               1   \n",
              "6810  habe sie al geschenk gekauft und sie sind sehr...               1   \n",
              "6811  trage diese hausschuhe fast zwei monate jeden ...               0   \n",
              "6812  die hausschuhe sind sehr warm und tolle leder ...               0   \n",
              "\n",
              "                         cleaned_reviewTitle  title_sentiment  \n",
              "0                                    love em                1  \n",
              "1                             plastic ripped                1  \n",
              "2                               good quality                1  \n",
              "3                                       good                1  \n",
              "4                                   perfette                1  \n",
              "...                                      ...              ...  \n",
              "6808                       schick und leicht                1  \n",
              "6809                               excellent                1  \n",
              "6810                einfach schne hausschuhe                1  \n",
              "6811                               langlebig                1  \n",
              "6812  hausschuhe fr lange kalte winterzeiten                1  \n",
              "\n",
              "[6813 rows x 4 columns]"
            ]
          },
          "execution_count": 15,
          "metadata": {},
          "output_type": "execute_result"
        }
      ],
      "source": [
        "# 필요한 열만 포함하는 새로운 데이터프레임 생성\n",
        "df_review = df[['cleaned_reviewText', 'text_sentiment', 'cleaned_reviewTitle', 'title_sentiment']]\n",
        "\n",
        "# 데이터프레임 확인\n",
        "df_review"
      ]
    },
    {
      "cell_type": "markdown",
      "metadata": {
        "id": "GmVoYIKaNnDM"
      },
      "source": [
        "이진 값으로 변환된 결과를 데이터 프레임으로 정리하여 저장하였고, 모델 학습을 하기위한 준비가 완료되었습니다."
      ]
    },
    {
      "cell_type": "markdown",
      "metadata": {
        "id": "-4AeTAswPLIT"
      },
      "source": [
        "### **3. 모델 학습 및 튜닝**"
      ]
    },
    {
      "cell_type": "markdown",
      "metadata": {
        "id": "fgy9kGJdTCzt"
      },
      "source": [
        "모델은 로지스틱 회귀 모델을 사용하며, 하이퍼 파라미터 튜닝 기법은 그리드 서치를 사용하여 최적의 하이퍼파라미터 값을 찾고 교차 검증 점수를 확인합니다."
      ]
    },
    {
      "cell_type": "markdown",
      "metadata": {
        "id": "ZW8doez8TSiL"
      },
      "source": [
        "## 1) 데이터 레이블 설정 및 훈련 테스트 데이터 분할"
      ]
    },
    {
      "cell_type": "code",
      "execution_count": 17,
      "metadata": {
        "id": "nm0akwkCMY-c"
      },
      "outputs": [],
      "source": [
        "import pandas as pd\n",
        "from sklearn.model_selection import train_test_split\n",
        "\n",
        "# 전처리된 데이터 로드\n",
        "data_path = 'cleaned_amazon_uk_shoes_reviews_with_sentiment.csv'\n",
        "df_review = pd.read_csv(data_path)\n",
        "\n",
        "# 입력 데이터와 레이블 설정\n",
        "X = df_review['cleaned_reviewText'].fillna('')  # NaN 값을 빈 문자열로 대체\n",
        "y = df_review['text_sentiment']\n",
        "\n",
        "# 데이터 분할 (80% 훈련 데이터, 20% 테스트 데이터)\n",
        "X_train, X_test, y_train, y_test = train_test_split(X, y, test_size=0.2, random_state=42)"
      ]
    },
    {
      "cell_type": "markdown",
      "metadata": {
        "id": "TlylplgdQo-g"
      },
      "source": [
        "데이터를 훈련 데이터와 테스트 데이터로 분할하고, 8:2비율로 사용합니다."
      ]
    },
    {
      "cell_type": "markdown",
      "metadata": {
        "id": "9EfDEMHoTm-c"
      },
      "source": [
        "## 2) 데이터 백터화 진행"
      ]
    },
    {
      "cell_type": "code",
      "execution_count": 18,
      "metadata": {
        "id": "nOEQdkh9PXlI"
      },
      "outputs": [],
      "source": [
        "from sklearn.feature_extraction.text import TfidfVectorizer\n",
        "\n",
        "# TF-IDF 벡터화\n",
        "vectorizer = TfidfVectorizer(max_features=5000)\n",
        "X_train_tfidf = vectorizer.fit_transform(X_train)\n",
        "X_test_tfidf = vectorizer.transform(X_test)"
      ]
    },
    {
      "cell_type": "markdown",
      "metadata": {
        "id": "iUulXhEEQvGV"
      },
      "source": [
        "TF-IDF 벡터화를 통해서 텍스트 데이터를 벡터 형태로 변환합니다. 텍스트 데이터를 수치 데이터로 변환하여 모델이 이를 입력으로 받아들일 수 있도록 합니다."
      ]
    },
    {
      "cell_type": "markdown",
      "metadata": {
        "id": "dr2pCyUHTsrR"
      },
      "source": [
        "## 3) Logistic Regression 모델 초기화 및 그리드 서치 활용"
      ]
    },
    {
      "cell_type": "markdown",
      "metadata": {},
      "source": [
        "해당 작업은 약 5분 내외 소요됩니다."
      ]
    },
    {
      "cell_type": "code",
      "execution_count": 19,
      "metadata": {
        "colab": {
          "base_uri": "https://localhost:8080/"
        },
        "id": "lMsNF8AwP94-",
        "outputId": "54ee15f6-fd21-4a13-eb33-e75188e3efa8"
      },
      "outputs": [
        {
          "name": "stdout",
          "output_type": "stream",
          "text": [
            "Best Parameters: {'C': 10, 'penalty': 'l1', 'solver': 'liblinear'}\n",
            "Best cross-validation score: 0.9453211009174313\n"
          ]
        }
      ],
      "source": [
        "import warnings\n",
        "\n",
        "# 모든 경고 메시지를 무시합니다\n",
        "warnings.filterwarnings(\"ignore\")\n",
        "\n",
        "from sklearn.linear_model import LogisticRegression\n",
        "from sklearn.model_selection import GridSearchCV\n",
        "\n",
        "# Logistic Regression 모델 초기화\n",
        "logreg = LogisticRegression(max_iter=1000)\n",
        "\n",
        "# 하이퍼파라미터 그리드 설정\n",
        "param_grid = {\n",
        "    'C': [0.01, 0.1, 1, 10, 100, 1000],\n",
        "    'solver': ['liblinear', 'lbfgs', 'saga'],\n",
        "    'penalty': ['l1', 'l2']\n",
        "}\n",
        "\n",
        "# 그리드 서치 및 교차 검증 설정\n",
        "grid_search = GridSearchCV(logreg, param_grid, cv=5, scoring='accuracy')\n",
        "\n",
        "# 그리드 서치를 통한 모델 학습\n",
        "grid_search.fit(X_train_tfidf, y_train)\n",
        "\n",
        "# 최적 하이퍼파라미터 출력\n",
        "print(\"Best Parameters:\", grid_search.best_params_)\n",
        "print(\"Best cross-validation score:\", grid_search.best_score_)"
      ]
    },
    {
      "cell_type": "markdown",
      "metadata": {
        "id": "Guxb_E8iQ6hQ"
      },
      "source": [
        "로지스틱 회귀 모델을 초기화하여 감정 분류 모델을 생성합니다. 최대 반복 횟수는 1000으로 설정했습니다.\n",
        "\n",
        "이후 그리드 서치를 위한 하이퍼파라미터를 설정하고, 다양한 하이퍼파라미터 조합을 통해 최적의 모델을 찾기 위해 여러가지 옵션을 지정한 뒤 교차검증을 통해 모델을 학습시킵니다.\n",
        "\n",
        "최적의 하이퍼파라미터 조합은 'C': 10, 'penalty': 'l1', 'solver': 'liblinear'에서 가장 최적의 결과를 보였고, 교차점수는 약 94%임을 확인합니다."
      ]
    },
    {
      "cell_type": "markdown",
      "metadata": {
        "id": "ani7fuwFT1Yi"
      },
      "source": [
        "## 4) 최적 모델 활용하여 학습 및 예측 진행"
      ]
    },
    {
      "cell_type": "code",
      "execution_count": 20,
      "metadata": {
        "colab": {
          "base_uri": "https://localhost:8080/"
        },
        "id": "0S9HcntiQDhe",
        "outputId": "3810eb07-7932-4865-cd5f-2db58b3c7d8d"
      },
      "outputs": [
        {
          "name": "stdout",
          "output_type": "stream",
          "text": [
            "예측 결과:\n",
            " [1 1 1 ... 1 1 1]\n"
          ]
        }
      ],
      "source": [
        "# 최적 모델로 예측 수행\n",
        "best_model = grid_search.best_estimator_\n",
        "y_pred = best_model.predict(X_test_tfidf)\n",
        "\n",
        "# 예측 결과 확인\n",
        "print(\"예측 결과:\\n\", y_pred)"
      ]
    },
    {
      "cell_type": "markdown",
      "metadata": {
        "id": "9YYjr13URwq7"
      },
      "source": [
        "최적의 하이퍼 파라미터 조합'C': 10, 'penalty': 'l1', 'solver': 'liblinear'으로 학습된 모델을 사용하여 테스트 데이터를 예측합니다."
      ]
    },
    {
      "cell_type": "markdown",
      "metadata": {
        "id": "JIpFLc4JSimK"
      },
      "source": [
        "### **4. 모델평가**\n"
      ]
    },
    {
      "cell_type": "markdown",
      "metadata": {
        "id": "qF0jPyRvSvT2"
      },
      "source": [
        "학습한 모델에 대한 평가를 진행합니다.\n",
        "평가 지표로 정확도(accuracy), 정밀도(precision), 재현률(recall), F1 점수, ROC-AUC를 사용합니다."
      ]
    },
    {
      "cell_type": "code",
      "execution_count": 21,
      "metadata": {
        "colab": {
          "base_uri": "https://localhost:8080/"
        },
        "id": "jvgi0cI_TByd",
        "outputId": "9b857568-fea5-48b8-fd23-bf990c13e438"
      },
      "outputs": [
        {
          "name": "stdout",
          "output_type": "stream",
          "text": [
            "Accuracy: 0.9479090242112986\n",
            "Precision: 0.9683597002497918\n",
            "Recall: 0.9724080267558528\n",
            "F1 Score: 0.9703796412181894\n",
            "ROC-AUC Score: 0.872431558288106\n",
            "Classification Report:\n",
            "               precision    recall  f1-score   support\n",
            "\n",
            "           0       0.80      0.77      0.78       167\n",
            "           1       0.97      0.97      0.97      1196\n",
            "\n",
            "    accuracy                           0.95      1363\n",
            "   macro avg       0.88      0.87      0.88      1363\n",
            "weighted avg       0.95      0.95      0.95      1363\n",
            "\n"
          ]
        }
      ],
      "source": [
        "from sklearn.metrics import accuracy_score, precision_score, recall_score, f1_score, roc_auc_score, classification_report\n",
        "\n",
        "# 평가 지표 계산\n",
        "accuracy = accuracy_score(y_test, y_pred)\n",
        "precision = precision_score(y_test, y_pred)\n",
        "recall = recall_score(y_test, y_pred)\n",
        "f1 = f1_score(y_test, y_pred)\n",
        "roc_auc = roc_auc_score(y_test, y_pred)\n",
        "\n",
        "# 평가 지표 출력\n",
        "print(\"Accuracy:\", accuracy)\n",
        "print(\"Precision:\", precision)\n",
        "print(\"Recall:\", recall)\n",
        "print(\"F1 Score:\", f1)\n",
        "print(\"ROC-AUC Score:\", roc_auc)\n",
        "\n",
        "# 전체 모델 분류 보고서 출력\n",
        "report = classification_report(y_test, y_pred)\n",
        "print(\"Classification Report:\\n\", report)"
      ]
    },
    {
      "cell_type": "markdown",
      "metadata": {
        "id": "s5E-YzFwUOy8"
      },
      "source": [
        "각각 평가지표는 다음과 같습니다.\n",
        "\n",
        "*   Accuracy (정확도): 0.9479090242112986\n",
        "\n",
        "전체 데이터 중에서 모델이 올바르게 예측한 비율입니다. 94.79%의 정확도로 모델이 감정을 예측했습니다.\n",
        "\n",
        "*   Precision (정밀도): 0.9683597002497918\n",
        "\n",
        "긍정으로 예측한 것들 중에서 실제 긍정인 비율입니다. 96.83%의 정밀도로 긍정 감정을 예측했습니다.\n",
        "\n",
        "*   Recall (재현율): 0.9724080267558528\n",
        "\n",
        "실제 긍정인 것들 중에서 모델이 긍정으로 예측한 비율입니다. 97.24%의 재현율로 긍정 감정을 예측했습니다.\n",
        "\n",
        "*   F1 Score: 0.9703796412181893\n",
        "\n",
        "정밀도와 재현율의 조화 평균입니다. 97.04%의 F1 점수를 기록했습니다.\n",
        "\n",
        "*   ROC-AUC Score: 0.872431558288106\n",
        "\n",
        "ROC 곡선 아래의 면적을 나타냅니다. 0.87의 점수로, 모델의 분류 능력이 높음을 의미합니다.\n",
        "\n",
        "모델은 전체적으로 높은 정확도, 정밀도, 재현율, F1 점수에서 우수한 성능을 보여주고 있습니다. 이 결과를 통해 보았을 때, 언더피팅의 문제는 없다고 판단할 수 있습니다. 오버피팅의 경우 최고 교차 검증 점수 0.9453와 테스트 데이터 점수 정확도 0.9479를 비교해보았을 때, 두 값이 유사하다고 볼 수 있기때문에 학습 데이터에 대해서만 잘 맞추어진 것이 아니라, 테스트 데이터에 대해서도 잘 일반화되었음을 나타냅니다.\n",
        "\n",
        "추가적으로, 긍정 감정(1)에서 매우 높은 성능을 기록하였으며, 부정 감정(0)에 대해서는 다소 낮은 성능을 보이고있습니다. 이는 데이터 불균형 문제로 성능이 낮게 나왔을 것으로 생각되며, 부정 리뷰에 대한 샘플 수를 늘리거나 샘플링 기법을 사용하여 불균형 문제를 해결할 수 있습니다."
      ]
    },
    {
      "cell_type": "markdown",
      "metadata": {
        "id": "bBKz19xau1L4"
      },
      "source": [
        "### **5. 시각화 및 보고**"
      ]
    },
    {
      "cell_type": "markdown",
      "metadata": {
        "id": "FLGBBkjDXM2L"
      },
      "source": [
        "혼동 행렬과 ROC 곡선에 대한 시각화를 진행합니다."
      ]
    },
    {
      "cell_type": "markdown",
      "metadata": {
        "id": "54e58VoaXTaL"
      },
      "source": [
        "## 1) 혼동행렬, ROC 곡선 생성 및 시각화"
      ]
    },
    {
      "cell_type": "code",
      "execution_count": 22,
      "metadata": {
        "colab": {
          "base_uri": "https://localhost:8080/",
          "height": 564
        },
        "id": "GPmgD70Wu0WY",
        "outputId": "2cbb6796-ccfc-4600-edc1-1e12253c03cb"
      },
      "outputs": [
        {
          "data": {
            "image/png": "[encoded data removed]",
            "text/plain": [
              "<Figure size 800x600 with 2 Axes>"
            ]
          },
          "metadata": {},
          "output_type": "display_data"
        }
      ],
      "source": [
        "import matplotlib.pyplot as plt\n",
        "import seaborn as sns\n",
        "from sklearn.metrics import confusion_matrix\n",
        "\n",
        "# 혼동 행렬 생성 및 시각화 함수\n",
        "def plot_confusion_matrix(y_test, y_pred):\n",
        "    cm = confusion_matrix(y_test, y_pred)\n",
        "    plt.figure(figsize=(8, 6))\n",
        "    sns.heatmap(cm, annot=True, fmt=\"d\", cmap=\"Blues\", xticklabels=[\"Predicted Negative\", \"Predicted Positive\"], yticklabels=[\"Actual Negative\", \"Actual Positive\"])\n",
        "    plt.xlabel(\"Predicted\")\n",
        "    plt.ylabel(\"Actual\")\n",
        "    plt.title(\"Confusion Matrix\")\n",
        "    plt.show()\n",
        "\n",
        "# 혼동 행렬 시각화\n",
        "plot_confusion_matrix(y_test, y_pred)"
      ]
    },
    {
      "cell_type": "markdown",
      "metadata": {
        "id": "IwKeXu8OZcXs"
      },
      "source": [
        "\n",
        "\n",
        "*   True Negative (TN): 129 - 모델이 실제 부정을 부정으로 올바르게 예측한 경우입니다.\n",
        "\n",
        "*   False Positive (FP): 38 - 모델이 실제 부정을 긍정으로 잘못 예측한 경우입니다.\n",
        "\n",
        "*   False Negative (FN): 33 - 모델이 실제 긍정을 부정으로 잘못 예측한 경우입니다.\n",
        "\n",
        "\n",
        "*   True Positive (TP): 1163 - 모델이 실제 긍정을 긍정으로 올바르게 예측한 경우입니다.\n",
        "\n",
        "모델은 1163개의 실제 긍정을 정확하게 예측하였으며, 이는 모델의 높은 재현율과 정밀도로 이어집니다.\n",
        "\n",
        "부정 샘플에 대해서는 129개의 실제 부정을 정확하게 예측하였으나, 38개의 부정을 긍정으로 잘못 예측했습니다.\n",
        "\n",
        "전반적으로 혼동 행렬을 통해 모델이 긍정 샘플을 잘 예측하고 있음을 알 수 있습니다. 부정 샘플에 대한 예측 성능을 향상시키기 위해 추가적인 조치가 필요할 수 있습니다.\n"
      ]
    },
    {
      "cell_type": "code",
      "execution_count": 23,
      "metadata": {
        "colab": {
          "base_uri": "https://localhost:8080/",
          "height": 564
        },
        "id": "tmmZrkRbygYx",
        "outputId": "32e58c9f-a9dd-4240-d557-51d4f1fd0645"
      },
      "outputs": [
        {
          "data": {
            "image/png": "[encoded data removed]",
            "text/plain": [
              "<Figure size 800x600 with 1 Axes>"
            ]
          },
          "metadata": {},
          "output_type": "display_data"
        }
      ],
      "source": [
        "from sklearn.metrics import roc_curve, auc\n",
        "\n",
        "# ROC 곡선 생성 및 시각화 함수\n",
        "def plot_roc_curve(y_test, y_prob):\n",
        "    fpr, tpr, _ = roc_curve(y_test, y_prob)\n",
        "    roc_auc = auc(fpr, tpr)\n",
        "    plt.figure(figsize=(8, 6))\n",
        "    plt.plot(fpr, tpr, color='blue', lw=2, label='ROC curve (area = %0.2f)' % roc_auc)\n",
        "    plt.plot([0, 1], [0, 1], color='gray', lw=2, linestyle='--')\n",
        "    plt.xlim([0.0, 1.0])\n",
        "    plt.ylim([0.0, 1.05])\n",
        "    plt.xlabel('False Positive Rate')\n",
        "    plt.ylabel('True Positive Rate')\n",
        "    plt.title('Receiver Operating Characteristic (ROC) Curve')\n",
        "    plt.legend(loc=\"lower right\")\n",
        "    plt.show()\n",
        "\n",
        "# 예측 결과 및 확률 계산\n",
        "y_prob = best_model.predict_proba(X_test_tfidf)[:, 1]\n",
        "\n",
        "# ROC 곡선 시각화\n",
        "plot_roc_curve(y_test, y_prob)"
      ]
    },
    {
      "cell_type": "markdown",
      "metadata": {
        "id": "BdgknZTWXoqU"
      },
      "source": [
        "ROC 곡선의 아래 면적 (AUC, Area Under Curve)은 0.95로, 이는 모델의 분류 성능이 매우 뛰어남을 나타냅니다. 대각선의 회색 점선은 랜덤 분류기를 나타내며, ROC 곡선이 이 선에서 멀어질수록 모델의 성능이 좋음을 의미합니다.\n",
        "\n",
        "ROC 곡선의 AUC 값이 0.95라는 것은 모델이 실제 긍정과 부정을 잘 구분하고 있음을 나타내며, FPR이 낮고 TPR이 높은 이상적인 ROC 곡선을 보여주고 있다고 볼 수 있습니다."
      ]
    }
  ],
  "metadata": {
    "colab": {
      "provenance": []
    },
    "kernelspec": {
      "display_name": "Python 3",
      "name": "python3"
    },
    "language_info": {
      "codemirror_mode": {
        "name": "ipython",
        "version": 3
      },
      "file_extension": ".py",
      "mimetype": "text/x-python",
      "name": "python",
      "nbconvert_exporter": "python",
      "pygments_lexer": "ipython3",
      "version": "3.10.13"
    }
  },
  "nbformat": 4,
  "nbformat_minor": 0
}
